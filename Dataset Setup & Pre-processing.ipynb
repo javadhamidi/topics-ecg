{
 "cells": [
  {
   "cell_type": "markdown",
   "id": "3ace7e9f",
   "metadata": {},
   "source": [
    "## Setup"
   ]
  },
  {
   "cell_type": "code",
   "execution_count": null,
   "id": "c714bcdb-d004-4fe4-b24a-262544981714",
   "metadata": {},
   "outputs": [],
   "source": [
    "import pandas as pd\n",
    "import numpy as np\n",
    "\n",
    "import wfdb\n",
    "from wfdb import processing\n",
    "import pywt\n",
    "\n",
    "from sklearn.model_selection import train_test_split\n",
    "from sklearn.preprocessing import LabelEncoder\n",
    "\n",
    "lead_keys = [ 'I', 'II', 'III', 'AVR', 'AVL', 'AVF', 'V1', 'V2', 'V3', 'V4', 'V5', 'V6' ]\n",
    "ld = dict(zip( lead_keys, range(len(lead_keys)) ))"
   ]
  },
  {
   "cell_type": "markdown",
   "id": "ca08685f-6d89-4178-997d-4d07fe516ce2",
   "metadata": {},
   "source": [
    "### [PTB-XL](https://physionet.org/content/ptb-xl/1.0.1/)"
   ]
  },
  {
   "cell_type": "code",
   "execution_count": 2,
   "id": "6026999d-44ef-4c93-98d3-24439418efe8",
   "metadata": {},
   "outputs": [
    {
     "data": {
      "text/html": [
       "<div>\n",
       "<style scoped>\n",
       "    .dataframe tbody tr th:only-of-type {\n",
       "        vertical-align: middle;\n",
       "    }\n",
       "\n",
       "    .dataframe tbody tr th {\n",
       "        vertical-align: top;\n",
       "    }\n",
       "\n",
       "    .dataframe thead th {\n",
       "        text-align: right;\n",
       "    }\n",
       "</style>\n",
       "<table border=\"1\" class=\"dataframe\">\n",
       "  <thead>\n",
       "    <tr style=\"text-align: right;\">\n",
       "      <th></th>\n",
       "      <th>record</th>\n",
       "      <th>diagnostic_class</th>\n",
       "    </tr>\n",
       "  </thead>\n",
       "  <tbody>\n",
       "    <tr>\n",
       "      <th>count</th>\n",
       "      <td>3224</td>\n",
       "      <td>3224</td>\n",
       "    </tr>\n",
       "    <tr>\n",
       "      <th>unique</th>\n",
       "      <td>3224</td>\n",
       "      <td>2</td>\n",
       "    </tr>\n",
       "    <tr>\n",
       "      <th>top</th>\n",
       "      <td>ptbxl/records500/00000/00253_hr</td>\n",
       "      <td>Healthy control</td>\n",
       "    </tr>\n",
       "    <tr>\n",
       "      <th>freq</th>\n",
       "      <td>1</td>\n",
       "      <td>2786</td>\n",
       "    </tr>\n",
       "  </tbody>\n",
       "</table>\n",
       "</div>"
      ],
      "text/plain": [
       "                                 record diagnostic_class\n",
       "count                              3224             3224\n",
       "unique                             3224                2\n",
       "top     ptbxl/records500/00000/00253_hr  Healthy control\n",
       "freq                                  1             2786"
      ]
     },
     "execution_count": 2,
     "metadata": {},
     "output_type": "execute_result"
    }
   ],
   "source": [
    "PATH = \"ptbxl/\"\n",
    "fs = 500.0  # sampling frequency (Hz)\n",
    "samp_cutoff = 5000\n",
    "\n",
    "metadata = pd.read_csv(PATH + \"ptbxl_database.csv\", index_col=\"ecg_id\", dtype={\n",
    "    'patient_id': np.int32,\n",
    "})\n",
    "\n",
    "def hasCAD(value):\n",
    "    if \"ischaemic heart\" in value:\n",
    "        return \"Coronary artery disease\"\n",
    "    elif \"normal ecg\" in value:\n",
    "        return \"Healthy control\"\n",
    "    else:\n",
    "        return \"other\"\n",
    "\n",
    "records = metadata[[\"filename_hr\"]].copy()\n",
    "\n",
    "records[\"report\"] = metadata[\"report\"].map(hasCAD)\n",
    "records = records[records[\"report\"].isin([\"Coronary artery disease\", \"Healthy control\"])] \n",
    "records = records.reset_index(drop=True)\n",
    "\n",
    "records.rename(columns={\"filename_hr\": \"record\", \"report\":\"diagnostic_class\"}, inplace=True)\n",
    "records[\"record\"] = PATH + records[\"record\"]\n",
    "\n",
    "records_ptbxl = records\n",
    "records_ptbxl.describe()"
   ]
  },
  {
   "cell_type": "markdown",
   "id": "832895af-845b-4655-b257-54496b64b559",
   "metadata": {},
   "source": [
    "### [PTB Diagnostic ECG Database](https://physionet.org/content/ptbdb/1.0.0/)"
   ]
  },
  {
   "cell_type": "code",
   "execution_count": 3,
   "id": "4d4c26ef-cb9c-42b8-9241-093c99c2e30b",
   "metadata": {},
   "outputs": [
    {
     "data": {
      "text/html": [
       "<div>\n",
       "<style scoped>\n",
       "    .dataframe tbody tr th:only-of-type {\n",
       "        vertical-align: middle;\n",
       "    }\n",
       "\n",
       "    .dataframe tbody tr th {\n",
       "        vertical-align: top;\n",
       "    }\n",
       "\n",
       "    .dataframe thead th {\n",
       "        text-align: right;\n",
       "    }\n",
       "</style>\n",
       "<table border=\"1\" class=\"dataframe\">\n",
       "  <thead>\n",
       "    <tr style=\"text-align: right;\">\n",
       "      <th></th>\n",
       "      <th>record</th>\n",
       "      <th>diagnostic_class</th>\n",
       "    </tr>\n",
       "  </thead>\n",
       "  <tbody>\n",
       "    <tr>\n",
       "      <th>count</th>\n",
       "      <td>448</td>\n",
       "      <td>448</td>\n",
       "    </tr>\n",
       "    <tr>\n",
       "      <th>unique</th>\n",
       "      <td>448</td>\n",
       "      <td>2</td>\n",
       "    </tr>\n",
       "    <tr>\n",
       "      <th>top</th>\n",
       "      <td>ptbdb/patient001/s0010_re</td>\n",
       "      <td>Myocardial infarction</td>\n",
       "    </tr>\n",
       "    <tr>\n",
       "      <th>freq</th>\n",
       "      <td>1</td>\n",
       "      <td>368</td>\n",
       "    </tr>\n",
       "  </tbody>\n",
       "</table>\n",
       "</div>"
      ],
      "text/plain": [
       "                           record       diagnostic_class\n",
       "count                         448                    448\n",
       "unique                        448                      2\n",
       "top     ptbdb/patient001/s0010_re  Myocardial infarction\n",
       "freq                            1                    368"
      ]
     },
     "execution_count": 3,
     "metadata": {},
     "output_type": "execute_result"
    }
   ],
   "source": [
    "PATH = \"ptbdb/\"\n",
    "fs = 1000.0  # sampling frequency (Hz)\n",
    "samp_cutoff = 30000\n",
    "\n",
    "records = pd.read_fwf(PATH + \"RECORDS\", sep='\\n', names=[\"record\"])\n",
    "records[\"diagnostic_class\"] = [ wfdb.rdheader(PATH + i).comments[4][22:] for i in records[\"record\"] ]\n",
    " \n",
    "records = records[records[\"diagnostic_class\"].isin([\"Myocardial infarction\", \"Healthy control\"])] \n",
    "records = records.reset_index(drop=True)\n",
    "\n",
    "records[\"record\"] = PATH + records[\"record\"]\n",
    "\n",
    "records_ptbdb = records\n",
    "records_ptbdb.describe()"
   ]
  },
  {
   "cell_type": "markdown",
   "id": "1d3c5760-bee2-446c-94a6-8007de8a99a7",
   "metadata": {},
   "source": [
    "### [St Petersburg INCART 12-lead Arrhythmia Database](https://physionet.org/content/incartdb/1.0.0/)"
   ]
  },
  {
   "cell_type": "code",
   "execution_count": 4,
   "id": "ce8ea810-783d-46de-a99d-ae7cc780f7fc",
   "metadata": {},
   "outputs": [
    {
     "data": {
      "text/html": [
       "<div>\n",
       "<style scoped>\n",
       "    .dataframe tbody tr th:only-of-type {\n",
       "        vertical-align: middle;\n",
       "    }\n",
       "\n",
       "    .dataframe tbody tr th {\n",
       "        vertical-align: top;\n",
       "    }\n",
       "\n",
       "    .dataframe thead th {\n",
       "        text-align: right;\n",
       "    }\n",
       "</style>\n",
       "<table border=\"1\" class=\"dataframe\">\n",
       "  <thead>\n",
       "    <tr style=\"text-align: right;\">\n",
       "      <th></th>\n",
       "      <th>record</th>\n",
       "      <th>diagnostic_class</th>\n",
       "    </tr>\n",
       "  </thead>\n",
       "  <tbody>\n",
       "    <tr>\n",
       "      <th>count</th>\n",
       "      <td>17</td>\n",
       "      <td>17</td>\n",
       "    </tr>\n",
       "    <tr>\n",
       "      <th>unique</th>\n",
       "      <td>17</td>\n",
       "      <td>1</td>\n",
       "    </tr>\n",
       "    <tr>\n",
       "      <th>top</th>\n",
       "      <td>st-petersburg/I01</td>\n",
       "      <td>Coronary artery disease</td>\n",
       "    </tr>\n",
       "    <tr>\n",
       "      <th>freq</th>\n",
       "      <td>1</td>\n",
       "      <td>17</td>\n",
       "    </tr>\n",
       "  </tbody>\n",
       "</table>\n",
       "</div>"
      ],
      "text/plain": [
       "                   record         diagnostic_class\n",
       "count                  17                       17\n",
       "unique                 17                        1\n",
       "top     st-petersburg/I01  Coronary artery disease\n",
       "freq                    1                       17"
      ]
     },
     "execution_count": 4,
     "metadata": {},
     "output_type": "execute_result"
    }
   ],
   "source": [
    "PATH = \"st-petersburg/\"\n",
    "fs = 257.0  # sampling frequency (Hz)\n",
    "samp_cutoff = 462600\n",
    "\n",
    "records = []\n",
    "\n",
    "with open(PATH + \"files-patients-diagnoses.txt\") as f:\n",
    "    content = f.readlines()\n",
    "    for i in range(len(content)):\n",
    "        if i % 3 == 1:\n",
    "            buffer = content[i]\n",
    "        elif i % 3 == 2:\n",
    "            if \"Coronary artery disease\" in content[i]:\n",
    "                records.extend(buffer.strip().split())\n",
    "                \n",
    "records = pd.DataFrame(\n",
    "    list(zip(records, [\"Coronary artery disease\"] * len(records))), \n",
    "    columns=['record', 'diagnostic_class']\n",
    ")\n",
    "\n",
    "records[\"record\"] = PATH + records[\"record\"]\n",
    "\n",
    "records_petersburg = records\n",
    "records_petersburg.describe()"
   ]
  },
  {
   "cell_type": "markdown",
   "id": "f4f958c8",
   "metadata": {},
   "source": [
    "## Combine Datasets"
   ]
  },
  {
   "cell_type": "code",
   "execution_count": 5,
   "id": "2358be76-3d4e-411a-a142-4fd415b5feff",
   "metadata": {},
   "outputs": [
    {
     "data": {
      "text/html": [
       "<div>\n",
       "<style scoped>\n",
       "    .dataframe tbody tr th:only-of-type {\n",
       "        vertical-align: middle;\n",
       "    }\n",
       "\n",
       "    .dataframe tbody tr th {\n",
       "        vertical-align: top;\n",
       "    }\n",
       "\n",
       "    .dataframe thead th {\n",
       "        text-align: right;\n",
       "    }\n",
       "</style>\n",
       "<table border=\"1\" class=\"dataframe\">\n",
       "  <thead>\n",
       "    <tr style=\"text-align: right;\">\n",
       "      <th></th>\n",
       "      <th>record</th>\n",
       "      <th>diagnostic_class</th>\n",
       "    </tr>\n",
       "  </thead>\n",
       "  <tbody>\n",
       "    <tr>\n",
       "      <th>count</th>\n",
       "      <td>3241</td>\n",
       "      <td>3241</td>\n",
       "    </tr>\n",
       "    <tr>\n",
       "      <th>unique</th>\n",
       "      <td>3241</td>\n",
       "      <td>2</td>\n",
       "    </tr>\n",
       "    <tr>\n",
       "      <th>top</th>\n",
       "      <td>ptbxl/records500/00000/00253_hr</td>\n",
       "      <td>Healthy control</td>\n",
       "    </tr>\n",
       "    <tr>\n",
       "      <th>freq</th>\n",
       "      <td>1</td>\n",
       "      <td>2786</td>\n",
       "    </tr>\n",
       "  </tbody>\n",
       "</table>\n",
       "</div>"
      ],
      "text/plain": [
       "                                 record diagnostic_class\n",
       "count                              3241             3241\n",
       "unique                             3241                2\n",
       "top     ptbxl/records500/00000/00253_hr  Healthy control\n",
       "freq                                  1             2786"
      ]
     },
     "execution_count": 5,
     "metadata": {},
     "output_type": "execute_result"
    }
   ],
   "source": [
    "all_records = pd.DataFrame(pd.concat([records_ptbxl, records_petersburg]))  # PTB DB is excluded\n",
    "all_records.describe()"
   ]
  },
  {
   "cell_type": "markdown",
   "id": "8638715e",
   "metadata": {},
   "source": [
    "## Test-Train Split"
   ]
  },
  {
   "cell_type": "code",
   "execution_count": 6,
   "id": "64cf296f-b679-43cf-9b67-c00674054cc2",
   "metadata": {},
   "outputs": [
    {
     "data": {
      "text/html": [
       "<div>\n",
       "<style scoped>\n",
       "    .dataframe tbody tr th:only-of-type {\n",
       "        vertical-align: middle;\n",
       "    }\n",
       "\n",
       "    .dataframe tbody tr th {\n",
       "        vertical-align: top;\n",
       "    }\n",
       "\n",
       "    .dataframe thead th {\n",
       "        text-align: right;\n",
       "    }\n",
       "</style>\n",
       "<table border=\"1\" class=\"dataframe\">\n",
       "  <thead>\n",
       "    <tr style=\"text-align: right;\">\n",
       "      <th></th>\n",
       "      <th>Coronary artery disease</th>\n",
       "      <th>Healthy control</th>\n",
       "    </tr>\n",
       "  </thead>\n",
       "  <tbody>\n",
       "    <tr>\n",
       "      <th>Training Set</th>\n",
       "      <td>362</td>\n",
       "      <td>2262</td>\n",
       "    </tr>\n",
       "    <tr>\n",
       "      <th>Testing Set</th>\n",
       "      <td>50</td>\n",
       "      <td>275</td>\n",
       "    </tr>\n",
       "    <tr>\n",
       "      <th>Validation Set</th>\n",
       "      <td>43</td>\n",
       "      <td>249</td>\n",
       "    </tr>\n",
       "  </tbody>\n",
       "</table>\n",
       "</div>"
      ],
      "text/plain": [
       "                Coronary artery disease  Healthy control\n",
       "Training Set                        362             2262\n",
       "Testing Set                          50              275\n",
       "Validation Set                       43              249"
      ]
     },
     "execution_count": 6,
     "metadata": {},
     "output_type": "execute_result"
    }
   ],
   "source": [
    "le = LabelEncoder()\n",
    "\n",
    "X_temp, X_test, y_temp, y_test = train_test_split(\n",
    "    # specifiying a random states seeds the random shuffle, 42 is common as per the scikit docs\n",
    "    all_records[\"record\"], le.fit_transform(all_records[\"diagnostic_class\"]), test_size=0.1, random_state=42\n",
    ")\n",
    "X_train, X_validate, y_train, y_validate = train_test_split(X_temp, y_temp, test_size=0.1, random_state=42)\n",
    "\n",
    "def uniq(data):\n",
    "    return np.unique(data, return_counts=True)[1]\n",
    "\n",
    "pd.DataFrame(\n",
    "    [ uniq(y_train), uniq(y_test), uniq(y_validate) ],\n",
    "    [ \"Training Set\", \"Testing Set\", \"Validation Set\" ],\n",
    "    le.classes_,\n",
    ")"
   ]
  },
  {
   "cell_type": "markdown",
   "id": "9f09a6e3",
   "metadata": {},
   "source": [
    "## Pre-processing"
   ]
  },
  {
   "cell_type": "code",
   "execution_count": 7,
   "id": "93d57742",
   "metadata": {},
   "outputs": [],
   "source": [
    "def clean(lead_x):\n",
    "    # transformation in https://www.ncbi.nlm.nih.gov/pmc/articles/PMC7531205/#j_joeb-2019-0007_s_003_s_002title\n",
    "    wvlt = 'db6'\n",
    "\n",
    "    # max useful decomposition level\n",
    "    max_level = pywt.dwt_max_level(data_len=len(lead_x), filter_len=pywt.Wavelet(wvlt).dec_len)  \n",
    "\n",
    "    coeffs = pywt.wavedec(\n",
    "        lead_x,\n",
    "        wvlt,\n",
    "        level=max_level\n",
    "    )\n",
    "\n",
    "    coeffs[0] = np.zeros(len(coeffs[0]))  # remove lowest frequency band\n",
    "    \n",
    "    # inverse DWT (multilevel reconstruction)\n",
    "    idwt = pywt.waverec(\n",
    "        coeffs,\n",
    "        wvlt,\n",
    "    )\n",
    "    \n",
    "    return idwt"
   ]
  },
  {
   "cell_type": "code",
   "execution_count": 8,
   "id": "9704ab3b-8642-4094-a83c-d83df26cafa9",
   "metadata": {},
   "outputs": [],
   "source": [
    "downsample_frequency = 250.0\n",
    "\n",
    "def pre_process(record):\n",
    "    if record.startswith(\"ptbxl\"):\n",
    "        samp_cutoff = 5000\n",
    "    elif record.startswith(\"ptbdb\"):\n",
    "        samp_cutoff = 30000\n",
    "    elif record.startswith(\"st-petersburg\"):\n",
    "        samp_cutoff = 462600\n",
    "        \n",
    "    record = wfdb.rdrecord(record, sampto=samp_cutoff)   \n",
    "    \n",
    "    signal = record.p_signal[:, ld['II']]  # has better timedelta than using 'channel' param\n",
    "    \n",
    "    signal = clean(signal) # cleaning signal before segmentation has more consistent results \n",
    "    \n",
    "    # second return value discards the new sample locations\n",
    "    samples, _ = wfdb.processing.resample_sig(signal, fs, downsample_frequency)\n",
    "    \n",
    "    return samples"
   ]
  },
  {
   "cell_type": "code",
   "execution_count": 9,
   "id": "d0029093",
   "metadata": {},
   "outputs": [],
   "source": [
    "segment_len = int(downsample_frequency * 5)  # five seconds worth of samples\n",
    "\n",
    "def segment(signal, num_segments):\n",
    "    return np.array_split(signal[:(segment_len * num_segments)], num_segments)"
   ]
  },
  {
   "cell_type": "code",
   "execution_count": null,
   "id": "0e1b306b-8aaa-439f-95a8-6e57cd6b0a4a",
   "metadata": {
    "scrolled": true
   },
   "outputs": [],
   "source": [
    "# 1. pre-process\n",
    "# create a new pandas column for filtered signal, fill that column\n",
    "all_records[\"signal\"] = all_records[\"record\"].apply(pre_process)"
   ]
  },
  {
   "cell_type": "code",
   "execution_count": null,
   "id": "73db463c",
   "metadata": {},
   "outputs": [],
   "source": [
    "# 2. segment each record\n",
    "all_signals = np.empty((0, segment_len))\n",
    "all_keys = []\n",
    "\n",
    "for index, row in all_records.iterrows():\n",
    "    num_segments = int(len(row[\"signal\"]) // segment_len)\n",
    "    \n",
    "    all_signals = np.vstack( (all_signals, segment(row[\"signal\"], num_segments)) )\n",
    "    all_keys.extend([row[\"diagnostic_class\"]] * num_segments)"
   ]
  },
  {
   "cell_type": "markdown",
   "id": "09838868",
   "metadata": {},
   "source": [
    "## Export"
   ]
  },
  {
   "cell_type": "code",
   "execution_count": null,
   "id": "1208c775",
   "metadata": {},
   "outputs": [],
   "source": [
    "# 3. Save the keys and signals to local file\n",
    "import pickle\n",
    "\n",
    "with open(\"all_signals.pickle\", \"wb\") as fp:\n",
    "    pickle.dump(all_signals, fp)\n",
    "\n",
    "with open(\"all_keys.pickle\", \"wb\") as fp:\n",
    "    pickle.dump(all_keys, fp)"
   ]
  }
 ],
 "metadata": {
  "kernelspec": {
   "display_name": "Python 3 (ipykernel)",
   "language": "python",
   "name": "python3"
  },
  "language_info": {
   "codemirror_mode": {
    "name": "ipython",
    "version": 3
   },
   "file_extension": ".py",
   "mimetype": "text/x-python",
   "name": "python",
   "nbconvert_exporter": "python",
   "pygments_lexer": "ipython3",
   "version": "3.9.12"
  }
 },
 "nbformat": 4,
 "nbformat_minor": 5
}
