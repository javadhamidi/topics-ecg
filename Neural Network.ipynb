{
 "cells": [
  {
   "cell_type": "markdown",
   "id": "b4bde8a1",
   "metadata": {},
   "source": [
    "## Setup"
   ]
  },
  {
   "cell_type": "code",
   "execution_count": null,
   "id": "11a6293f",
   "metadata": {},
   "outputs": [],
   "source": [
    "import tensorflow as tf\n",
    "from tensorflow.keras.layers import Conv1D, Dense\n",
    "from tensorflow.keras.layers import MaxPooling1D, Flatten, Dropout\n",
    "\n",
    "tf.random.set_seed(42)  # for stable neural network results\n",
    "\n",
    "import pandas as pd\n",
    "import numpy as np\n",
    "import matplotlib.pyplot as plt\n",
    "\n",
    "import pickle\n",
    "\n",
    "from sklearn.model_selection import train_test_split\n",
    "from sklearn.preprocessing import LabelEncoder\n",
    "from sklearn.metrics import confusion_matrix, ConfusionMatrixDisplay, accuracy_score, classification_report"
   ]
  },
  {
   "cell_type": "markdown",
   "id": "9ff652e1",
   "metadata": {},
   "source": [
    "## Dataset"
   ]
  },
  {
   "cell_type": "code",
   "execution_count": 2,
   "id": "7a5fe6f9",
   "metadata": {},
   "outputs": [
    {
     "data": {
      "text/html": [
       "<div>\n",
       "<style scoped>\n",
       "    .dataframe tbody tr th:only-of-type {\n",
       "        vertical-align: middle;\n",
       "    }\n",
       "\n",
       "    .dataframe tbody tr th {\n",
       "        vertical-align: top;\n",
       "    }\n",
       "\n",
       "    .dataframe thead th {\n",
       "        text-align: right;\n",
       "    }\n",
       "</style>\n",
       "<table border=\"1\" class=\"dataframe\">\n",
       "  <thead>\n",
       "    <tr style=\"text-align: right;\">\n",
       "      <th></th>\n",
       "      <th>Coronary artery disease</th>\n",
       "      <th>Healthy control</th>\n",
       "    </tr>\n",
       "  </thead>\n",
       "  <tbody>\n",
       "    <tr>\n",
       "      <th>Training Set</th>\n",
       "      <td>5931</td>\n",
       "      <td>6703</td>\n",
       "    </tr>\n",
       "    <tr>\n",
       "      <th>Testing Set</th>\n",
       "      <td>741</td>\n",
       "      <td>838</td>\n",
       "    </tr>\n",
       "    <tr>\n",
       "      <th>Validation Set</th>\n",
       "      <td>762</td>\n",
       "      <td>817</td>\n",
       "    </tr>\n",
       "  </tbody>\n",
       "</table>\n",
       "</div>"
      ],
      "text/plain": [
       "                Coronary artery disease  Healthy control\n",
       "Training Set                       5931             6703\n",
       "Testing Set                         741              838\n",
       "Validation Set                      762              817"
      ]
     },
     "execution_count": 2,
     "metadata": {},
     "output_type": "execute_result"
    }
   ],
   "source": [
    "with open(\"all_signals.pickle\", \"rb\") as fp:\n",
    "    all_signals = pickle.load(fp)\n",
    "    \n",
    "with open(\"all_keys.pickle\", \"rb\") as fp:\n",
    "    all_keys = pickle.load(fp)\n",
    "\n",
    "\n",
    "le = LabelEncoder()\n",
    "\n",
    "X_temp, X_train, y_temp, y_train = train_test_split(\n",
    "    # specifiying a random states seeds the random shuffle, 42 is common as per the scikit docs\n",
    "    all_signals, le.fit_transform(all_keys), test_size=0.8, random_state=0\n",
    ")\n",
    "X_test, X_validate, y_test, y_validate = train_test_split(X_temp, y_temp, test_size=0.5, random_state=42)\n",
    "\n",
    "def uniq(data):\n",
    "    return np.unique(data, return_counts=True)[1]\n",
    "\n",
    "pd.DataFrame(\n",
    "    [ uniq(y_train), uniq(y_test), uniq(y_validate) ],\n",
    "    [ \"Training Set\", \"Testing Set\", \"Validation Set\" ],\n",
    "    le.classes_,\n",
    ")"
   ]
  },
  {
   "cell_type": "markdown",
   "id": "13d2224d",
   "metadata": {},
   "source": [
    "## Model"
   ]
  },
  {
   "cell_type": "code",
   "execution_count": 3,
   "id": "eee4fe88",
   "metadata": {},
   "outputs": [
    {
     "name": "stdout",
     "output_type": "stream",
     "text": [
      "Epoch 1/10\n",
      "395/395 [==============================] - 11s 25ms/step - loss: 0.3129 - accuracy: 0.8730 - val_loss: 0.2598 - val_accuracy: 0.9088\n",
      "Epoch 2/10\n",
      "395/395 [==============================] - 8s 19ms/step - loss: 0.2369 - accuracy: 0.9215 - val_loss: 0.2167 - val_accuracy: 0.9183\n",
      "Epoch 3/10\n",
      "395/395 [==============================] - 16s 41ms/step - loss: 0.2116 - accuracy: 0.9269 - val_loss: 0.1966 - val_accuracy: 0.9234\n",
      "Epoch 4/10\n",
      "395/395 [==============================] - 12s 30ms/step - loss: 0.1821 - accuracy: 0.9325 - val_loss: 0.1836 - val_accuracy: 0.9316\n",
      "Epoch 5/10\n",
      "395/395 [==============================] - 12s 31ms/step - loss: 0.1654 - accuracy: 0.9389 - val_loss: 0.1711 - val_accuracy: 0.9335\n",
      "Epoch 6/10\n",
      "395/395 [==============================] - 20s 50ms/step - loss: 0.1560 - accuracy: 0.9445 - val_loss: 0.1608 - val_accuracy: 0.9335\n",
      "Epoch 7/10\n",
      "395/395 [==============================] - 11s 29ms/step - loss: 0.1428 - accuracy: 0.9487 - val_loss: 0.1486 - val_accuracy: 0.9430\n",
      "Epoch 8/10\n",
      "395/395 [==============================] - 5s 12ms/step - loss: 0.1308 - accuracy: 0.9534 - val_loss: 0.1487 - val_accuracy: 0.9411\n",
      "Epoch 9/10\n",
      "395/395 [==============================] - 9s 22ms/step - loss: 0.1208 - accuracy: 0.9578 - val_loss: 0.1412 - val_accuracy: 0.9506\n",
      "Epoch 10/10\n",
      "395/395 [==============================] - 16s 40ms/step - loss: 0.1147 - accuracy: 0.9600 - val_loss: 0.1346 - val_accuracy: 0.9474\n",
      "50/50 - 0s - loss: 0.1342 - accuracy: 0.9493 - 335ms/epoch - 7ms/step\n",
      "Loss (Test Set) 0.13416539132595062\n",
      "Accuracy (Test Set) 0.9493350386619568\n",
      "Model: \"sequential\"\n",
      "_________________________________________________________________\n",
      " Layer (type)                Output Shape              Param #   \n",
      "=================================================================\n",
      " conv1d (Conv1D)             (None, 1231, 3)           63        \n",
      "                                                                 \n",
      " max_pooling1d (MaxPooling1D  (None, 615, 3)           0         \n",
      " )                                                               \n",
      "                                                                 \n",
      " conv1d_1 (Conv1D)           (None, 606, 6)            186       \n",
      "                                                                 \n",
      " max_pooling1d_1 (MaxPooling  (None, 303, 6)           0         \n",
      " 1D)                                                             \n",
      "                                                                 \n",
      " conv1d_2 (Conv1D)           (None, 299, 9)            279       \n",
      "                                                                 \n",
      " max_pooling1d_2 (MaxPooling  (None, 149, 9)           0         \n",
      " 1D)                                                             \n",
      "                                                                 \n",
      " flatten (Flatten)           (None, 1341)              0         \n",
      "                                                                 \n",
      " dense (Dense)               (None, 20)                26840     \n",
      "                                                                 \n",
      " dropout (Dropout)           (None, 20)                0         \n",
      "                                                                 \n",
      " dense_1 (Dense)             (None, 10)                210       \n",
      "                                                                 \n",
      " dropout_1 (Dropout)         (None, 10)                0         \n",
      "                                                                 \n",
      " dense_2 (Dense)             (None, 1)                 11        \n",
      "                                                                 \n",
      "=================================================================\n",
      "Total params: 27,589\n",
      "Trainable params: 27,589\n",
      "Non-trainable params: 0\n",
      "_________________________________________________________________\n"
     ]
    }
   ],
   "source": [
    "input_shape = (X_train.shape[1], 1)\n",
    "\n",
    "model = tf.keras.Sequential([\n",
    "    Conv1D(filters=3, kernel_size=20, activation='relu', input_shape=input_shape),\n",
    "    MaxPooling1D(2, strides=2),\n",
    "    \n",
    "    Conv1D(filters=6, kernel_size=10, activation='relu'),\n",
    "    MaxPooling1D(2, strides=2),\n",
    "    \n",
    "    Conv1D(filters=9, kernel_size=5, activation='relu'),\n",
    "    MaxPooling1D(2, strides=2),\n",
    "    \n",
    "    Flatten(),\n",
    "    Dense(20, activation='relu'),\n",
    "    Dropout(0.2),\n",
    "    Dense(10, activation='relu'),\n",
    "    Dropout(0.2),\n",
    "        Dense(1, activation='sigmoid', kernel_initializer='glorot_uniform')  \n",
    "])\n",
    "\n",
    "\n",
    "model.compile(\n",
    "    optimizer=tf.keras.optimizers.Adam(learning_rate=0.001),\n",
    "    loss=tf.keras.losses.BinaryCrossentropy(),\n",
    "    metrics=['accuracy']\n",
    ")\n",
    "\n",
    "model.fit(\n",
    "    X_train,\n",
    "    y_train,\n",
    "    epochs=10,\n",
    "    validation_data=(X_validate, y_validate)\n",
    ")\n",
    "\n",
    "evaluation = model.evaluate(X_test, y_test, verbose=2)\n",
    "print(\"Loss (Test Set)\", evaluation[0])\n",
    "print(\"Accuracy (Test Set)\", evaluation[1])\n",
    "\n",
    "model.summary()"
   ]
  },
  {
   "cell_type": "markdown",
   "id": "32cbf570",
   "metadata": {},
   "source": [
    "## Results"
   ]
  },
  {
   "cell_type": "code",
   "execution_count": 4,
   "id": "51f4eed8",
   "metadata": {},
   "outputs": [
    {
     "name": "stdout",
     "output_type": "stream",
     "text": [
      "50/50 [==============================] - 0s 6ms/step\n"
     ]
    },
    {
     "data": {
      "text/plain": [
       "<sklearn.metrics._plot.confusion_matrix.ConfusionMatrixDisplay at 0x1aa70695e20>"
      ]
     },
     "execution_count": 4,
     "metadata": {},
     "output_type": "execute_result"
    },
    {
     "data": {
      "image/png": "[encoded data removed]",
      "text/plain": [
       "<Figure size 500x500 with 2 Axes>"
      ]
     },
     "metadata": {
      "needs_background": "light"
     },
     "output_type": "display_data"
    }
   ],
   "source": [
    "predictions = model.predict(X_test)\n",
    "predictions = np.rint(predictions).astype(int)\n",
    "\n",
    "cm = confusion_matrix(y_test, predictions)\n",
    "disp = ConfusionMatrixDisplay(confusion_matrix=cm, display_labels=le.classes_)\n",
    "fig, ax = plt.subplots(figsize=(5, 5), dpi=100)\n",
    "\n",
    "# move horizontal axis to top\n",
    "ax.tick_params(top=True, bottom=False, labeltop=True, labelbottom=False)\n",
    "ax.xaxis.set_label_position('top') \n",
    "\n",
    "# turn off spines\n",
    "ax.spines[:].set_visible(False)\n",
    "\n",
    "disp.plot(cmap=\"YlGn\", colorbar=True, ax=ax)"
   ]
  }
 ],
 "metadata": {
  "kernelspec": {
   "display_name": "Python 3 (ipykernel)",
   "language": "python",
   "name": "python3"
  },
  "language_info": {
   "codemirror_mode": {
    "name": "ipython",
    "version": 3
   },
   "file_extension": ".py",
   "mimetype": "text/x-python",
   "name": "python",
   "nbconvert_exporter": "python",
   "pygments_lexer": "ipython3",
   "version": "3.9.12"
  }
 },
 "nbformat": 4,
 "nbformat_minor": 5
}
